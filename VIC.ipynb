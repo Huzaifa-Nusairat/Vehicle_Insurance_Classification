{
 "cells": [
  {
   "cell_type": "code",
   "execution_count": 1,
   "id": "46cc0a8b-add6-438f-9ba0-140691e9b092",
   "metadata": {},
   "outputs": [
    {
     "name": "stdout",
     "output_type": "stream",
     "text": [
      "Hello WOrld!\n"
     ]
    }
   ],
   "source": [
    "print('Hello WOrld!')"
   ]
  },
  {
   "cell_type": "code",
   "execution_count": null,
   "id": "b5ac7605",
   "metadata": {},
   "outputs": [],
   "source": []
  }
 ],
 "metadata": {
  "kernelspec": {
   "display_name": "Python 3",
   "language": "python",
   "name": "python3"
  },
  "language_info": {
   "codemirror_mode": {
    "name": "ipython",
    "version": 3
   },
   "file_extension": ".py",
   "mimetype": "text/x-python",
   "name": "python",
   "nbconvert_exporter": "python",
   "pygments_lexer": "ipython3",
   "version": "3.9.7"
  }
 },
 "nbformat": 4,
 "nbformat_minor": 5
}
